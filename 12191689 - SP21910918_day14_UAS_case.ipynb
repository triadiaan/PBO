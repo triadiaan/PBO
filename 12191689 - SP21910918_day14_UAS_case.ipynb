{
 "cells": [
  {
   "cell_type": "code",
   "execution_count": 1,
   "metadata": {},
   "outputs": [
    {
     "data": {
      "application/vnd.jupyter.widget-view+json": {
       "model_id": "7e94f74b-face-4865-8b10-bacd4711d833",
       "version_major": 2,
       "version_minor": 0
      },
      "method": "display_data"
     },
     "metadata": {},
     "output_type": "display_data"
    }
   ],
   "source": [
    "%classpath add jar libs/*"
   ]
  },
  {
   "cell_type": "code",
   "execution_count": 47,
   "metadata": {},
   "outputs": [
    {
     "name": "stdout",
     "output_type": "stream",
     "text": [
      "                                                                             12191689.csv                                                                              \n",
      " _id  |  idx  |                        series                        |  kode_wilayah  |   wilayah   |  tahun  |  triwulan  |  bulan  |  tanggal  |  nilai  |  target  |\n",
      "-----------------------------------------------------------------------------------------------------------------------------------------------------------------------\n",
      "   1  |    0  |  Produksi Daging Ayam Ras Petelur menurut Provinsi_  |             1  |  Indonesia  |   2000  |            |         |           |  23745  |          |\n",
      "   2  |    1  |  Produksi Daging Ayam Ras Petelur menurut Provinsi_  |             1  |  Indonesia  |   2001  |            |         |           |  88299  |          |\n",
      "   3  |    2  |  Produksi Daging Ayam Ras Petelur menurut Provinsi_  |             1  |  Indonesia  |   2002  |            |         |           |  42773  |          |\n",
      "   4  |    3  |  Produksi Daging Ayam Ras Petelur menurut Provinsi_  |             1  |  Indonesia  |   2003  |            |         |           |  48146  |          |\n",
      "   5  |    4  |  Produksi Daging Ayam Ras Petelur menurut Provinsi_  |             1  |  Indonesia  |   2004  |            |         |           |  48376  |          |\n",
      "   6  |    5  |  Produksi Daging Ayam Ras Petelur menurut Provinsi_  |             1  |  Indonesia  |   2005  |            |         |           |  45193  |          |\n",
      "   7  |    6  |  Produksi Daging Ayam Ras Petelur menurut Provinsi_  |             1  |  Indonesia  |   2006  |            |         |           |  57631  |          |\n",
      "   8  |    7  |  Produksi Daging Ayam Ras Petelur menurut Provinsi_  |             1  |  Indonesia  |   2007  |            |         |           |  58162  |          |\n",
      "   9  |    8  |  Produksi Daging Ayam Ras Petelur menurut Provinsi_  |             1  |  Indonesia  |   2008  |            |         |           |  57274  |          |\n",
      "  10  |    9  |  Produksi Daging Ayam Ras Petelur menurut Provinsi_  |             1  |  Indonesia  |   2009  |            |         |           |  55055  |          |\n",
      " ...  |  ...  |                                                 ...  |           ...  |        ...  |    ...  |       ...  |    ...  |      ...  |    ...  |     ...  |\n",
      " 586  |  585  |  Produksi Daging Ayam Ras Petelur menurut Provinsi_  |            94  |      Papua  |   2007  |            |         |           |     26  |          |\n",
      " 587  |  586  |  Produksi Daging Ayam Ras Petelur menurut Provinsi_  |            94  |      Papua  |   2008  |            |         |           |      6  |          |\n",
      " 588  |  587  |  Produksi Daging Ayam Ras Petelur menurut Provinsi_  |            94  |      Papua  |   2009  |            |         |           |     22  |          |\n",
      " 589  |  588  |  Produksi Daging Ayam Ras Petelur menurut Provinsi_  |            94  |      Papua  |   2010  |            |         |           |     24  |          |\n",
      " 590  |  589  |  Produksi Daging Ayam Ras Petelur menurut Provinsi_  |            94  |      Papua  |   2011  |            |         |           |     23  |          |\n",
      " 591  |  590  |  Produksi Daging Ayam Ras Petelur menurut Provinsi_  |            94  |      Papua  |   2012  |            |         |           |     16  |          |\n",
      " 592  |  591  |  Produksi Daging Ayam Ras Petelur menurut Provinsi_  |            94  |      Papua  |   2013  |            |         |           |     91  |          |\n",
      " 593  |  592  |  Produksi Daging Ayam Ras Petelur menurut Provinsi_  |            94  |      Papua  |   2014  |            |         |           |    205  |          |\n",
      " 594  |  593  |  Produksi Daging Ayam Ras Petelur menurut Provinsi_  |            94  |      Papua  |   2015  |            |         |           |    263  |          |\n",
      " 595  |  594  |  Produksi Daging Ayam Ras Petelur menurut Provinsi_  |            94  |      Papua  |   2016  |            |         |           |    172  |          |\n",
      "                                                                           12191689.csv summary                                                                            \n",
      " Count [nilai]  |  Sum [nilai]  |  Max [nilai]  |  Min [nilai]  |   Mean [nilai]    |  Range [nilai]  |  Median [nilai]  |  Variance [nilai]   |  Std. Deviation [nilai]  |\n",
      "---------------------------------------------------------------------------------------------------------------------------------------------------------------------------\n",
      "           548  |      2186872  |       105739  |            2  |  3990.6423357664  |         105737  |           402.5  |  146451441.8937802  |      12101.712353786144  |\n"
     ]
    },
    {
     "data": {
      "text/plain": [
       "null"
      ]
     },
     "execution_count": 47,
     "metadata": {},
     "output_type": "execute_result"
    }
   ],
   "source": [
    "import tech.tablesaw.api.*;\n",
    "import static tech.tablesaw.aggregate.AggregateFunctions.*;\n",
    "import tech.tablesaw.io.xlsx.*;\n",
    "import tech.tablesaw.io.json.*;\n",
    "\n",
    "//init objek\n",
    "Table  data1= Table.read().csv(\"datasets/12191689.csv\");\n",
    "\n",
    "//init objek JsonReader \n",
    "JsonReader reader = new JsonReader();\n",
    "\n",
    "//membaca file product.json\n",
    "JsonReadOptions json = JsonReadOptions.builder(\"datasets/12191689.json\").build();\n",
    "Table data2 = reader.read(json);\n",
    "\n",
    "\n",
    "Table datagabung = data1.append(data2);\n",
    "System.out.println(datagabung);\n",
    "\n",
    "System.out.println(datagabung.summarize(\"nilai\", count, sum, max, min, mean, range, median, variance, standardDeviation).apply());\n",
    "\n",
    "\n",
    "\n",
    "\n"
   ]
  },
  {
   "cell_type": "markdown",
   "metadata": {},
   "source": [
    "Kesimpulan Data Statistik Gabungan\n",
    "\n",
    "Jumlah data      = 548\n",
    "Jumlah Nilai     = 2186872\n",
    "Nilai Maksimal   = 105739\n",
    "Nilai Minimal    = 2\n",
    "Rata-Rata Nilai  = 3990.6423357664\n",
    "Range Nilai      = 105737\n",
    "Nilai tengah     = 402.5\n",
    "Variasi Nilai    = 146451441.8937802\n",
    "Deviasi Nilai    = 12101.712353786144\n"
   ]
  }
 ],
 "metadata": {
  "kernelspec": {
   "display_name": "Java",
   "language": "java",
   "name": "java"
  },
  "language_info": {
   "codemirror_mode": "text/x-java",
   "file_extension": ".java",
   "mimetype": "",
   "name": "Java",
   "nbconverter_exporter": "",
   "version": "1.8.0_121"
  },
  "toc": {
   "base_numbering": 1,
   "nav_menu": {},
   "number_sections": false,
   "sideBar": false,
   "skip_h1_title": false,
   "title_cell": "Table of Contents",
   "title_sidebar": "Contents",
   "toc_cell": false,
   "toc_position": {},
   "toc_section_display": false,
   "toc_window_display": false
  }
 },
 "nbformat": 4,
 "nbformat_minor": 2
}
