{
 "cells": [
  {
   "cell_type": "code",
   "execution_count": 102,
   "metadata": {},
   "outputs": [
    {
     "data": {
      "text/plain": [
       "com.twosigma.beaker.javash.bkr216a673e.Kemampuan"
      ]
     },
     "execution_count": 102,
     "metadata": {},
     "output_type": "execute_result"
    }
   ],
   "source": [
    "public interface Kemampuan {\n",
    "   void doMove();\n",
    "}\n"
   ]
  },
  {
   "cell_type": "code",
   "execution_count": 103,
   "metadata": {},
   "outputs": [
    {
     "data": {
      "text/plain": [
       "com.twosigma.beaker.javash.bkr216a673e.Lingkungan"
      ]
     },
     "execution_count": 103,
     "metadata": {},
     "output_type": "execute_result"
    }
   ],
   "source": [
    "public interface Lingkungan {\n",
    "   void doEnv();\n",
    "}"
   ]
  },
  {
   "cell_type": "code",
   "execution_count": 104,
   "metadata": {},
   "outputs": [
    {
     "data": {
      "text/plain": [
       "com.twosigma.beaker.javash.bkr216a673e.Burung"
      ]
     },
     "execution_count": 104,
     "metadata": {},
     "output_type": "execute_result"
    }
   ],
   "source": [
    "public class Burung implements Kemampuan{\n",
    "\n",
    "//    @Override\n",
    "   public void doMove(){\n",
    "      System.out.println(\"Terbang Kemampuan::Burung() method.\");\n",
    "   }\n",
    "    \n",
    "   public void doEnv(){\n",
    "      System.out.println(\"Udara Lingkungan::Burung() method.\");\n",
    "   }\n",
    "    \n",
    "    \n",
    "}\n",
    "\n"
   ]
  },
  {
   "cell_type": "code",
   "execution_count": 108,
   "metadata": {},
   "outputs": [
    {
     "data": {
      "text/plain": [
       "com.twosigma.beaker.javash.bkr216a673e.KemampuanFactory"
      ]
     },
     "execution_count": 108,
     "metadata": {},
     "output_type": "execute_result"
    }
   ],
   "source": [
    "public class KemampuanFactory {\n",
    "\t\n",
    "   //use getShape method to get object of type shape \n",
    "   public static Kemampuan getKemampuan(String typeKemampuan){\n",
    "      if(typeKemampuan == null){\n",
    "         return null;\n",
    "      }\t\t\n",
    "      if(typeKemampuan.equalsIgnoreCase(\"IKAN\")){\n",
    "         return new Ikan();\n",
    "         \n",
    "      } \n",
    "      \n",
    "      return null;\n",
    "   }\n",
    "}"
   ]
  },
  {
   "cell_type": "code",
   "execution_count": 109,
   "metadata": {},
   "outputs": [
    {
     "name": "stdout",
     "output_type": "stream",
     "text": [
      "Berenang Kemampuan::Burung() method.\n"
     ]
    },
    {
     "data": {
      "text/plain": [
       "null"
      ]
     },
     "execution_count": 109,
     "metadata": {},
     "output_type": "execute_result"
    }
   ],
   "source": [
    "\n",
    "      //get an object of IkanKoi and call its doMove method.\n",
    "      Kemampuan BurungBetet = KemampuanFactory.getKemampuan(\"IKAN\");\n",
    "\n",
    "      //call draw method of Ikan\n",
    "      BurungBetet.doMove();\n",
    "//       BurungBetet.doEnv();"
   ]
  },
  {
   "cell_type": "code",
   "execution_count": null,
   "metadata": {},
   "outputs": [],
   "source": []
  }
 ],
 "metadata": {
  "kernelspec": {
   "display_name": "Java",
   "language": "java",
   "name": "java"
  },
  "language_info": {
   "codemirror_mode": "text/x-java",
   "file_extension": ".java",
   "mimetype": "",
   "name": "Java",
   "nbconverter_exporter": "",
   "version": "1.8.0_121"
  },
  "toc": {
   "base_numbering": 1,
   "nav_menu": {},
   "number_sections": false,
   "sideBar": false,
   "skip_h1_title": false,
   "title_cell": "Table of Contents",
   "title_sidebar": "Contents",
   "toc_cell": false,
   "toc_position": {},
   "toc_section_display": false,
   "toc_window_display": false
  }
 },
 "nbformat": 4,
 "nbformat_minor": 4
}
