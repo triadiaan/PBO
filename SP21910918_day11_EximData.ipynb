{
 "cells": [
  {
   "cell_type": "markdown",
   "metadata": {},
   "source": [
    "> **Requirement**: Baca reqirement yang ada di Sub Bab 10 (day_10)"
   ]
  },
  {
   "cell_type": "code",
   "execution_count": 4,
   "metadata": {},
   "outputs": [
    {
     "data": {
      "application/vnd.jupyter.widget-view+json": {
       "model_id": "e4169edf-f899-4b08-94ce-15dccf638e23",
       "version_major": 2,
       "version_minor": 0
      },
      "method": "display_data"
     },
     "metadata": {},
     "output_type": "display_data"
    }
   ],
   "source": [
    "%classpath add jar libs/*"
   ]
  },
  {
   "cell_type": "markdown",
   "metadata": {},
   "source": [
    "# 11. Data Ingestion \n",
    "\n",
    " * [A. Pengenalan](#A.-Pengenalan)\n",
    " * [B. Mengimpor Data Dari File CSV](#B.-Mengimpor-Data-Dari-File-CSV)\n",
    " * [C. Mengekspor Data Dari File CSV](#C.-Ekspor-Data-Kedalam-File-CSV)\n",
    " * [D. Mengimpor Data Dari File Excel](#D.-Mengimpor-Data-Dari-File-Excel)\n",
    " * [E. Menggabungkan Data Dari Beberapa File](#E.-Menggabungkan-Data-Dari-Beberapa-File-Excel)\n",
    " * [F. Mengimpor Data Dari JSON](#F.-Mengimpor-Data-Dari-JSON)\n",
    " * [G. Mengimpor Data Dari Website Atau API](#G.-Mengimpor-Data-Dari-Website-Atau-API)\n",
    " * [H. Manipulasi Data Dari Database](#H.-Mengimpor-Data-Dari-Database)\n",
    " * [I. Ekstraksi Data Dari Website](#I.-Ektraksi-Data-Dari-Suatu-Website)"
   ]
  },
  {
   "cell_type": "markdown",
   "metadata": {},
   "source": [
    "## A. Pengenalan \n",
    "Data Ingestion adalah tahap pertama dari analisis data adalah mendapatkan data kemudian memindahkan data dari sumber data (data source) ke dalam stored dari *analitics tools* yang akan kita gunakan.\n",
    "\n",
    "Data frame dari Class *Table* mendukung untuk melakukan import dan export data dari berbagai data sumber(data source). Berikut ini format data sour yang didukung. \n",
    "\n",
    "| Format                         | Import | Export |\n",
    "| :----------------------------- | :----- | :----- |\n",
    "| CSV (and other delimited text) | Yes    | Yes    |\n",
    "| JSON                           | Yes    | Yes    |\n",
    "| Excel                          | Yes    | Yes    |\n",
    "| RDBMS (via JDBC)               | Yes    |        |\n"
   ]
  },
  {
   "cell_type": "markdown",
   "metadata": {},
   "source": [
    "## B. Mengimpor Data Dari File CSV\n",
    "\n",
    "Biasanya data didapat dari suatu file dengan format tertentu atau dari database. Kode berikut ini adalah cara mengimpor data dari suatu file CSV.\n",
    "\n",
    "**Listing 11-1.** Loading Data from CSV File\n",
    "\n",
    "``` javascript\n",
    "import tech.tablesaw.api.*;\n",
    "\n",
    "// display Tablesaw tables with BeakerX table display widget\n",
    "tech.tablesaw.beakerx.TablesawDisplayer.register();\n",
    "\n",
    "//init objek\n",
    "Table  dfSmallgrade= Table.read().csv(\"datasets/smallgradesh.csv\");\n",
    "\n",
    "//print dataset structure\n",
    "System.out.println(dfSmallgrade.structure());\n",
    "\n",
    "//Menampilkan  ordo data frame Binatang \n",
    "\n",
    "System.out.println(dfSmallgrade.shape())\n",
    "\n",
    "//Menampilkan  5 baris data yang pertama dari data frame Binatang \n",
    "\n",
    "System.out.println(dfSmallgrade.first(5))\n",
    "\n",
    "//Menampilkan 5 baris data yang terakhir dari data frame Binatang\n",
    "\n",
    "System.out.println(dfSmallgrade.last(5))\n",
    "\n",
    "//Menampilkan semua data dari  frame Binatang\n",
    "\n",
    "System.out.println(dfSmallgrade.print());\n",
    "\n",
    "``` \n",
    "#### Latihan 11-1\n",
    "Lakukan Eksekusi dari kode *Listing 10-1* pada pada bidang baris dibawah ini dan amatilah hasilnya"
   ]
  },
  {
   "cell_type": "code",
   "execution_count": 7,
   "metadata": {},
   "outputs": [
    {
     "name": "stdout",
     "output_type": "stream",
     "text": [
      "      Structure of smallgradesh.csv      \n",
      " Index  |  Column Name  |  Column Type  |\n",
      "-----------------------------------------\n",
      "     0  |         Name  |       STRING  |\n",
      "     1  |        Grade  |       DOUBLE  |\n",
      "2000 rows X 2 cols\n",
      "  smallgradesh.csv   \n",
      "  Name    |  Grade  |\n",
      "---------------------\n",
      "  Marcia  |   82.4  |\n",
      "  Kadeem  |   78.2  |\n",
      "    Nash  |   79.3  |\n",
      " Noelani  |   83.2  |\n",
      " Noelani  |   87.4  |\n",
      "   smallgradesh.csv    \n",
      "   Name     |  Grade  |\n",
      "-----------------------\n",
      "      Cody  |   80.1  |\n",
      " Geraldine  |    100  |\n",
      "  Mercedes  |   84.9  |\n",
      "    Lucius  |   69.1  |\n",
      "     Linus  |   79.6  |\n",
      "   smallgradesh.csv    \n",
      "   Name     |  Grade  |\n",
      "-----------------------\n",
      "    Marcia  |   82.4  |\n",
      "    Kadeem  |   78.2  |\n",
      "      Nash  |   79.3  |\n",
      "   Noelani  |   83.2  |\n",
      "   Noelani  |   87.4  |\n",
      "      Neil  |   88.7  |\n",
      "     Nelle  |   80.2  |\n",
      "   Armando  |   95.1  |\n",
      "   Illiana  |   76.5  |\n",
      "      Neil  |   89.7  |\n",
      "       ...  |    ...  |\n",
      "     Adena  |   70.2  |\n",
      "     Craig  |   64.9  |\n",
      "  Isabelle  |   78.5  |\n",
      "      Risa  |   74.3  |\n",
      "   Emerson  |   67.5  |\n",
      "      Cody  |   80.1  |\n",
      " Geraldine  |    100  |\n",
      "  Mercedes  |   84.9  |\n",
      "    Lucius  |   69.1  |\n",
      "     Linus  |   79.6  |\n"
     ]
    },
    {
     "data": {
      "text/plain": [
       "null"
      ]
     },
     "execution_count": 7,
     "metadata": {},
     "output_type": "execute_result"
    }
   ],
   "source": [
    "import tech.tablesaw.api.*;\n",
    "\n",
    "// display Tablesaw tables with BeakerX table display widget\n",
    "tech.tablesaw.beakerx.TablesawDisplayer.register();\n",
    "\n",
    "//init objek\n",
    "Table  dfSmallgrade= Table.read().csv(\"datasets/smallgradesh.csv\");\n",
    "\n",
    "//print dataset structure\n",
    "System.out.println(dfSmallgrade.structure());\n",
    "\n",
    "//Menampilkan  ordo data frame Binatang \n",
    "\n",
    "System.out.println(dfSmallgrade.shape());\n",
    "\n",
    "//Menampilkan  5 baris data yang pertama dari data frame Binatang \n",
    "\n",
    "System.out.println(dfSmallgrade.first(5));\n",
    "\n",
    "//Menampilkan 5 baris data yang terakhir dari data frame Binatang\n",
    "\n",
    "System.out.println(dfSmallgrade.last(5));\n",
    "\n",
    "//Menampilkan semua data dari  frame Binatang\n",
    "\n",
    "System.out.println(dfSmallgrade.print());"
   ]
  },
  {
   "cell_type": "markdown",
   "metadata": {},
   "source": [
    "## C. Ekspor Data Kedalam File CSV\n",
    "\n",
    "Kita bisa melakukan penyimpanan dari hasil analisis data kita secara permanen. Atau kita akan melakukan transfer data ke dalam tools lain. Berikut ini adalah cara menympan data secara permanen ke dalam file CSV dari suatu data frame.\n",
    "\n",
    "**Listing 11-2.** Export Data to CSV File\n",
    "``` javascript\n",
    "\n",
    "//Inisialisasi pembuatan data frame Animals dengan Kolom animals dan Kolom cuteness\n",
    "Table Binatang = Table.create(\"Cute Animals\")\n",
    "                     .addColumns(StringColumn.create(\"AnimalName\", daftarbinatang),\n",
    "\t\t                         DoubleColumn.create(\"Rating\", gradekelucuan));\n",
    "\n",
    "//Menyimpan data frame Binatang ke dalam file CSV\n",
    "Binatang.write().csv(\"datasets/BinatangRate.csv\");\n",
    "```\n",
    "\n",
    "#### Latihan 11-2\n",
    "1. Lakukan Eksekusi dari kode *Listing 11-2*. dan amatilah hasilnya, \n",
    "2. Rubahlah kode *Listing 11-2*. diatas dengan menyimpan data dari data frame dengan nama file sesuai NIM anda. pada pada bidang baris dibawah ini dan."
   ]
  },
  {
   "cell_type": "code",
   "execution_count": 15,
   "metadata": {},
   "outputs": [
    {
     "ename": "cannot find symbol",
     "evalue": "cannot find symbol",
     "output_type": "error",
     "traceback": [
      "\u001b[1;31mcannot find symbol\u001b[0;0m",
      "\u001b[1;31m  symbol:   variable daftarbinatang\u001b[0;0m",
      "\u001b[0;31m  location: class com.twosigma.beaker.javash.bkr73882883.BeakerWrapperClass1261714175Id1f541b9c2a67426d91934729b3e4a0f4\u001b[0;0m",
      "\u001b[0;31mingColumn.create(\"AnimalName\", daftarbinatang),DoubleColumn.create(\"Rating\"\u001b[0;0m",
      "\u001b[0;31m                               ^             ^                               \u001b[0;0m",
      "\u001b[0;31m\u001b[0;0m",
      "\u001b[0;31mcannot find symbol\u001b[0;0m",
      "\u001b[0;31m  symbol:   variable gradekelucuan\u001b[0;0m",
      "\u001b[0;31m  location: class com.twosigma.beaker.javash.bkr73882883.BeakerWrapperClass1261714175Id1f541b9c2a67426d91934729b3e4a0f4\u001b[0;0m",
      "\u001b[0;31m,DoubleColumn.create(\"Rating\", gradekelucuan))\u001b[0;0m",
      "\u001b[0;31m                               ^            ^   \u001b[0;0m"
     ]
    }
   ],
   "source": [
    "%import static tech.tablesaw.aggregate.AggregateFunctions.*\n",
    "%import tech.tablesaw.api.*\n",
    "%import tech.tablesaw.columns.*\n",
    "%import smile.clustering.*\n",
    "%import smile.regression.*\n",
    "\n",
    "tech.tablesaw.beakerx.TablesawDisplayer.register();\n",
    "\n",
    "//Inisialisasi pembuatan data frame Animals dengan Kolom animals dan Kolom cuteness\n",
    "Table Binatang = Table.create(\"Cute Animals\")\n",
    "                     .addColumns(StringColumn.create(\"AnimalName\", daftarbinatang),DoubleColumn.create(\"Rating\", gradekelucuan));\n",
    "\n",
    "//Menyimpan data frame Binatang ke dalam file CSV\n",
    "Binatang.write().csv(\"datasets/BinatangRate.csv\");"
   ]
  },
  {
   "cell_type": "code",
   "execution_count": null,
   "metadata": {},
   "outputs": [],
   "source": [
    "//Latihan 11-2.2"
   ]
  },
  {
   "cell_type": "markdown",
   "metadata": {},
   "source": [
    "## D. Mengimpor Data Dari File Excel\n",
    " Kode berikut ini adalah cara mengimpor data dari suatu file Excel.\n",
    "\n",
    "**Listing 11-3.** Import Data From Excel File\n",
    "``` javascript\n",
    "import tech.tablesaw.api.*;\n",
    "import tech.tablesaw.io.xlsx.*;\n",
    "\n",
    "// display Tablesaw tables with BeakerX table display widget\n",
    "tech.tablesaw.beakerx.TablesawDisplayer.register();\n",
    "\n",
    "//init objek XlsReader\n",
    "XlsxReader reader = new XlsxReader();\n",
    "XlsxReadOptions options = XlsxReadOptions.builder(\"datasets/data1.xlsx\").build();\n",
    "Table tab = reader.read(options);\n",
    "\n",
    "Table dfDataXLS = reader.read(options);\n",
    "\n",
    "////Menampilkan struktur data frame dfDataXLS\n",
    "System.out.println(dfDataXLS.structure());\n",
    "\n",
    "//Menampilkan 5 baris data yang terakhir dari data frame dfDataXLS\n",
    "System.out.println(dfDataXLS.first(10));\n",
    "\n",
    "```\n",
    "#### Latihan 11-3\n",
    " 1. Lakukan Eksekusi dari kode *Listing 11-3* pada pada bidang baris dibawah ini dan amatilah hasilnya\n",
    " 2. Ubahlah untuk *Latihan 11-3* menampilkan 10 baris data terakhir dari file data3.xlsx  "
   ]
  },
  {
   "cell_type": "code",
   "execution_count": 18,
   "metadata": {},
   "outputs": [
    {
     "name": "stdout",
     "output_type": "stream",
     "text": [
      "         Structure of data1.xlsx         \n",
      " Index  |  Column Name  |  Column Type  |\n",
      "-----------------------------------------\n",
      "     0  |        fname  |       STRING  |\n",
      "     1  |          age  |      INTEGER  |\n",
      "     2  |        grade  |      INTEGER  |\n",
      "          data1.xlsx           \n",
      "   fname    |  age  |  grade  |\n",
      "-------------------------------\n",
      "     Baker  |   14  |     90  |\n",
      " Josephine  |   19  |    100  |\n",
      "    Calvin  |   15  |     66  |\n",
      "    Aretha  |   17  |     84  |\n",
      " Britanney  |   19  |     66  |\n",
      "      Cruz  |   15  |     98  |\n",
      "    Caesar  |   15  |     69  |\n",
      "    Ariana  |   15  |     99  |\n",
      "    Kieran  |   14  |     93  |\n",
      "    Tanner  |   17  |    100  |\n"
     ]
    },
    {
     "data": {
      "text/plain": [
       "null"
      ]
     },
     "execution_count": 18,
     "metadata": {},
     "output_type": "execute_result"
    }
   ],
   "source": [
    "//Latihan 11-3.1import tech.tablesaw.api.*;\n",
    "import tech.tablesaw.api.*;\n",
    "import tech.tablesaw.io.xlsx.*;\n",
    "\n",
    "// display Tablesaw tables with BeakerX table display widget\n",
    "tech.tablesaw.beakerx.TablesawDisplayer.register();\n",
    "\n",
    "//init objek XlsReader\n",
    "XlsxReader reader = new XlsxReader();\n",
    "XlsxReadOptions options = XlsxReadOptions.builder(\"datasets/data1.xlsx\").build();\n",
    "Table tab = reader.read(options);\n",
    "\n",
    "Table dfDataXLS = reader.read(options);\n",
    "\n",
    "////Menampilkan struktur data frame dfDataXLS\n",
    "System.out.println(dfDataXLS.structure());\n",
    "\n",
    "//Menampilkan 5 baris data yang terakhir dari data frame dfDataXLS\n",
    "System.out.println(dfDataXLS.first(10));\n"
   ]
  },
  {
   "cell_type": "code",
   "execution_count": null,
   "metadata": {},
   "outputs": [],
   "source": [
    "//Latihan 11-3.2"
   ]
  },
  {
   "cell_type": "markdown",
   "metadata": {},
   "source": [
    "## E. Menggabungkan Data Dari Beberapa File Excel\n",
    "\n",
    " Kode berikut ini adalah cara mengimpor data dari beberapa file Excel kedalam sebuah data frame\n",
    "\n",
    "**Listing 11-4.** Import Data From Excel File\n",
    "\n",
    "``` javascript\n",
    "\n",
    "import static tech.tablesaw.aggregate.AggregateFunctions.*;\n",
    "\n",
    "import tech.tablesaw.api.*;\n",
    "import tech.tablesaw.io.xlsx.*;\n",
    "\n",
    "// display Tablesaw tables with BeakerX table display widget\n",
    "tech.tablesaw.beakerx.TablesawDisplayer.register();\n",
    "\n",
    "//init objek\n",
    "XlsxReader reader = new XlsxReader();\n",
    "\n",
    "//membaca file data1.xlsx\n",
    "XlsxReadOptions file1 = XlsxReadOptions.builder(\"datasets/data1.xlsx\").build();\n",
    "\n",
    "//membaca file data1.xlsx\n",
    "XlsxReadOptions file2 = XlsxReadOptions.builder(\"datasets/data2.xlsx\").build();\n",
    "\n",
    "//memasukan data file data1.xlsx ke dataframe data1\n",
    "Table data1 = reader.read(file1);\n",
    "\n",
    "//memasukan data file data2.xlsx ke dataframe data2\n",
    "Table data2 = reader.read(file2);\n",
    "\n",
    "//menampilkan data yang ada di dataframe data1\n",
    "System.out.println(data1.last(5)); \n",
    "\n",
    "//menampilkan summary data yang ada di dataframe data1 kolom \"grade\"\n",
    "System.out.println(data1.summarize(\"grade\", mean, max, min).apply());\n",
    "\n",
    "//menggabungkan data pada dataframedata1 dan dataframedata2 untuk disimpan di df datagabung\n",
    "Table datagabung = data1.append(data2);\n",
    "\n",
    "//menampilkan gabungan data yang ada di dataframe datagabung\n",
    "System.out.println(datagabung.last(5)); \n",
    "\n",
    "//menampilkan summary data yang ada di dataframe datagabung kolom \"grade\"\n",
    "System.out.print(datagabung.summarize(\"grade\", mean, max, min).apply());\n",
    "\n",
    "```\n",
    "#### Latihan 11-4\n",
    " 1. Lakukan Eksekusi dari kode *Listing 11-4* pada pada bidang baris dibawah ini dan amatilah hasilnya\n",
    " 2. Rubah kode *Listing 11-4* untuk menggabungkan data yang ada pada file excel data1.xlsx, data2.xlsx dan data3.xlsx\n",
    " 3. lakukan summarize dari latihan 11-4 point 2"
   ]
  },
  {
   "cell_type": "code",
   "execution_count": 21,
   "metadata": {},
   "outputs": [
    {
     "name": "stdout",
     "output_type": "stream",
     "text": [
      "          data1.xlsx           \n",
      "   fname    |  age  |  grade  |\n",
      "-------------------------------\n",
      " Shaeleigh  |   18  |     82  |\n",
      "    Vielka  |   14  |     80  |\n",
      "   Shelley  |   14  |     75  |\n",
      "   Merritt  |   15  |     73  |\n",
      "   Desirae  |   16  |     69  |\n",
      "               data1.xlsx summary               \n",
      " Mean [grade]  |  Max [grade]  |  Min [grade]  |\n",
      "------------------------------------------------\n",
      "        82.79  |          100  |           65  |\n",
      "          data1.xlsx          \n",
      "  fname    |  age  |  grade  |\n",
      "------------------------------\n",
      "   Flavia  |   16  |     66  |\n",
      "   Pamela  |   17  |     70  |\n",
      "    Wilma  |   17  |     87  |\n",
      "     Jack  |   18  |     78  |\n",
      " Charissa  |   18  |     95  |\n",
      "               data1.xlsx summary               \n",
      " Mean [grade]  |  Max [grade]  |  Min [grade]  |\n",
      "------------------------------------------------\n",
      "       83.135  |          100  |           65  |"
     ]
    },
    {
     "data": {
      "text/plain": [
       "null"
      ]
     },
     "execution_count": 21,
     "metadata": {},
     "output_type": "execute_result"
    }
   ],
   "source": [
    "//Latihan 11-4.1\n",
    "import static tech.tablesaw.aggregate.AggregateFunctions.*;\n",
    "\n",
    "import tech.tablesaw.api.*;\n",
    "import tech.tablesaw.io.xlsx.*;\n",
    "\n",
    "// display Tablesaw tables with BeakerX table display widget\n",
    "tech.tablesaw.beakerx.TablesawDisplayer.register();\n",
    "\n",
    "//init objek\n",
    "XlsxReader reader = new XlsxReader();\n",
    "\n",
    "//membaca file data1.xlsx\n",
    "XlsxReadOptions file1 = XlsxReadOptions.builder(\"datasets/data1.xlsx\").build();\n",
    "\n",
    "//membaca file data1.xlsx\n",
    "XlsxReadOptions file2 = XlsxReadOptions.builder(\"datasets/data2.xlsx\").build();\n",
    "\n",
    "//memasukan data file data1.xlsx ke dataframe data1\n",
    "Table data1 = reader.read(file1);\n",
    "\n",
    "//memasukan data file data2.xlsx ke dataframe data2\n",
    "Table data2 = reader.read(file2);\n",
    "\n",
    "//menampilkan data yang ada di dataframe data1\n",
    "System.out.println(data1.last(5)); \n",
    "\n",
    "//menampilkan summary data yang ada di dataframe data1 kolom \"grade\"\n",
    "System.out.println(data1.summarize(\"grade\", mean, max, min).apply());\n",
    "\n",
    "//menggabungkan data pada dataframedata1 dan dataframedata2 untuk disimpan di df datagabung\n",
    "Table datagabung = data1.append(data2);\n",
    "\n",
    "//menampilkan gabungan data yang ada di dataframe datagabung\n",
    "System.out.println(datagabung.last(5)); \n",
    "\n",
    "//menampilkan summary data yang ada di dataframe datagabung kolom \"grade\"\n",
    "System.out.print(datagabung.summarize(\"grade\", mean, max, min).apply());"
   ]
  },
  {
   "cell_type": "code",
   "execution_count": null,
   "metadata": {},
   "outputs": [],
   "source": [
    "//Latihan 11-4.2"
   ]
  },
  {
   "cell_type": "markdown",
   "metadata": {},
   "source": [
    "## F. Mengimpor Data Dari JSON\n",
    "JSON (JavaScript Object Notation) adalah format pertukaran data yang ringan, mudah dibaca dan ditulis oleh manusia, serta mudah diterjemahkan dan dibuat (generate) oleh komputer. Format ini dibuat berdasarkan bagian dari Bahasa Pemprograman JavaScript, Standar ECMA-262.  Kode berikut ini adalah cara mengimpor data dari suatu JSON.\n",
    "\n",
    "**Listing 11-4.** Import Data From JSON\n",
    "``` javascript\n",
    "import tech.tablesaw.api.*;\n",
    "import tech.tablesaw.io.json.*;\n",
    "\n",
    "// display Tablesaw tables with BeakerX table display widget\n",
    "tech.tablesaw.beakerx.TablesawDisplayer.register();\n",
    "\n",
    "//init objek JsonReader \n",
    "JsonReader reader = new JsonReader();\n",
    "\n",
    "//membaca file product.json\n",
    "JsonReadOptions fileJSON = JsonReadOptions.builder(\"datasets/product.json\").build();\n",
    "\n",
    "//memasukan data fileJSON ke dataframe \n",
    "Table tabeljson = reader.read(fileJSON);\n",
    "\n",
    "//menampilkan structure dataframe tabeljson\n",
    "System.out.println(tabeljson.structure());\n",
    "\n",
    "//menampilkan 4 data terkhir pada dataframe tabeljson\n",
    "System.out.println(tabeljson.first(4));\n",
    "```\n",
    "#### Latihan 11-4\n",
    "Lakukan Eksekusi dari kode *Listing 10-4* pada pada bidang baris dibawah ini dan amatilah hasilnya"
   ]
  },
  {
   "cell_type": "code",
   "execution_count": 17,
   "metadata": {},
   "outputs": [
    {
     "name": "stdout",
     "output_type": "stream",
     "text": [
      "        Structure of product.json         \n",
      " Index  |  Column Name   |  Column Type  |\n",
      "------------------------------------------\n",
      "     0  |      quantity  |      INTEGER  |\n",
      "     1  |      _id.$oid  |       STRING  |\n",
      "     2  |      supplier  |       STRING  |\n",
      "     3  |     unit_cost  |       STRING  |\n",
      "     4  |  product_name  |       STRING  |\n",
      "                                              product.json                                               \n",
      " quantity  |          _id.$oid          |      supplier      |  unit_cost  |        product_name        |\n",
      "---------------------------------------------------------------------------------------------------------\n",
      "      261  |  5968dd23fc13ae04d9000001  |        Wisozk Inc  |     $10.47  |        sildenafil citrate  |\n",
      "      292  |  5968dd23fc13ae04d9000002  |   Keebler-Hilpert  |      $8.74  |  Mountain Juniperus ashei  |\n",
      "      211  |  5968dd23fc13ae04d9000003  |  Schmitt-Weissnat  |     $20.53  |      Dextromathorphan HBr  |\n"
     ]
    },
    {
     "data": {
      "text/plain": [
       "null"
      ]
     },
     "execution_count": 17,
     "metadata": {},
     "output_type": "execute_result"
    }
   ],
   "source": [
    "//Latihan 10-4import tech.tablesaw.api.*;\n",
    "import tech.tablesaw.io.json.*;\n",
    "\n",
    "// display Tablesaw tables with BeakerX table display widget\n",
    "tech.tablesaw.beakerx.TablesawDisplayer.register();\n",
    "\n",
    "//init objek JsonReader \n",
    "JsonReader reader = new JsonReader();\n",
    "\n",
    "//membaca file product.json\n",
    "JsonReadOptions fileJSON = JsonReadOptions.builder(\"datasets/product.json\").build();\n",
    "\n",
    "//memasukan data fileJSON ke dataframe \n",
    "Table tabeljson = reader.read(fileJSON);\n",
    "\n",
    "//menampilkan structure dataframe tabeljson\n",
    "System.out.println(tabeljson.structure());\n",
    "\n",
    "//menampilkan 4 data terkhir pada dataframe tabeljson\n",
    "System.out.println(tabeljson.first(4));"
   ]
  },
  {
   "cell_type": "markdown",
   "metadata": {},
   "source": [
    "## G. Mengimpor Data Dari Website Atau API\n",
    "\n",
    "Cara yang lebih fleksibel dalam mengakses data source adalah langsung mengakses dari sumber data langsung dari internet atau suatu web site tertentu baik melalui API ada file yang ditempatkan secara public pada mesin tertentu.\n",
    "\n",
    "**Listing 11-5.** Import Data Dari Website\n",
    "``` javascript\n",
    "import java.io.*;\n",
    "import java.net.*;\n",
    "import tech.tablesaw.api.*;\n",
    "import tech.tablesaw.api.ColumnType;\n",
    "\n",
    "tech.tablesaw.beakerx.TablesawDisplayer.register();\n",
    "\n",
    "// Inisialisasi alamat URL\n",
    "String alamatURL = \"https://raw.githubusercontent.com/jtablesaw/tablesaw/master/data/bush.csv\";\n",
    "\n",
    "//inisialisasi objek data frame dfBush\n",
    "Table dfBush; \n",
    "\n",
    "//mengakses alamatURL melalui objek input\n",
    "try (InputStream input = new URL(alamatURL).openStream()) {\n",
    "\n",
    "   //memasukan data hasil objek input ke dalam data frame dfBush  \n",
    "   dfBush = Table.read().csv(input, \"bush\"); \n",
    "   \n",
    "   //menampilkan structure dfBush\n",
    "   System.out.println(dfBush.structure()); \n",
    "\n",
    "   //menampilkan 4 baris pertama data dataframe dfBush\n",
    "   System.out.println(dfBush.first(4)); \n",
    "} catch (IOException e) {\n",
    "  // TODO Auto-generated catch block\n",
    "   e.printStackTrace();\n",
    "}   \n",
    "``` \n",
    "#### Latihan 11-5\n",
    "Lakukan Eksekusi dari kode *Listing 11-5* pada pada bidang baris dibawah ini dan amatilah hasilnya"
   ]
  },
  {
   "cell_type": "code",
   "execution_count": null,
   "metadata": {},
   "outputs": [],
   "source": [
    "//Latihan 11-5\n"
   ]
  },
  {
   "cell_type": "markdown",
   "metadata": {},
   "source": [
    "## H. Mengimpor Data Dari Database\n",
    "\n",
    "Kita juga bisa mengakses data source dari suatu database dengan perintah- perintah query.\n",
    "Kode dibawah ini adalah cara menginisialisasi sebuah data frame dari suatu objek database. \n",
    "``` javascript\n",
    "Table t = Table.read().db(ResultSet resultSet, String tableName);\n",
    "```\n",
    "\n",
    "Berikut ini adalah kode lengkap dengan menggunakan JDBC setup dari subuah database SQLLite. \n",
    "\n",
    "**Listing 11-6.** Import Data Dari Database\n",
    "``` javascript\n",
    "import java.sql.Connection;\n",
    "import java.sql.DriverManager;\n",
    "import java.sql.SQLException;\n",
    "import java.util.Properties;\n",
    "import java.sql.ResultSet;\n",
    "import java.sql.Statement;\n",
    "\n",
    "import tech.tablesaw.api.*;\n",
    "\n",
    "Connection conn = null;\n",
    "String DB_URL = \"jdbc:sqlite:datasets/gradedata.db\";\n",
    "\n",
    "//if use windows OS use this statment\n",
    "// String DB_URL =\"jdbc:sqlite:D:\\\\db\\\\gradedata.db\";\n",
    "\n",
    "\n",
    "   try {\n",
    "    \n",
    "      Class.forName(\"org.sqlite.JDBC\");\n",
    "\n",
    "      conn = DriverManager.getConnection(DB_URL);    \n",
    "      \n",
    "        System.out.println(\"Koneksi ke SQLite DB has been established.\");\n",
    "          \n",
    "    } catch ( Exception e ) {\n",
    "    \n",
    "       System.err.println( e.getClass().getName() + \": \" + e.getMessage() );\n",
    "\n",
    "       System.exit(0);\n",
    "    }\n",
    "\n",
    "\n",
    "Table dfTest = null; \n",
    "\n",
    "try (Statement stmt = conn.createStatement()) {\n",
    "    \n",
    "  String sql = \"SELECT * FROM test\";\n",
    "    \n",
    "  try (ResultSet results = stmt.executeQuery(sql)) {\n",
    "      \n",
    "       dfTest = Table.read().db(results, \"test\");\n",
    "  }\n",
    "    \n",
    "}\n",
    "\n",
    "System.out.println(dfTest.last(5)); \n",
    "\n",
    "```\n",
    "#### Latihan 11-6\n",
    " 1. Lakukan Eksekusi dari kode *Listing 11-6* pada pada bidang baris dibawah ini dan amatilah hasilnya. \n",
    "\n",
    " 2. Kemudian lakukan perubahan kode *Listing 11-6* untuk :\n",
    "    * menampilkan jumlah record dari table test\n",
    "    * menampilkan data record dari field person dengan nama John \n",
    "    "
   ]
  },
  {
   "cell_type": "code",
   "execution_count": null,
   "metadata": {},
   "outputs": [],
   "source": [
    "//Latihan 11-6.1\n"
   ]
  },
  {
   "cell_type": "code",
   "execution_count": null,
   "metadata": {},
   "outputs": [],
   "source": [
    "//Latihan 11-6.2"
   ]
  },
  {
   "cell_type": "markdown",
   "metadata": {},
   "source": [
    "## I. Ektraksi Data Dari Suatu Website\n",
    "\n",
    "*Web scraping* adalah proses ekstrasi data dari sebuah website. Salah satu contoh web scraping adalah meng-copy daftar contact dari sebuah web atau mendapatka data produk berikut atributnya dari sebuah website e-commerce bahkan kita bisa melakukan analisa data kompetitor.\n",
    "\n",
    "Berikut ini adalah kode lengkap melakukan web scraping dari suatu halaman website. \n",
    "\n",
    "**Listing 11-7.** Memperoleh data hasil ekstrasi dari sebuah website\n",
    "\n",
    "``` javascript\n",
    "import org.jsoup.Jsoup;\n",
    "import org.jsoup.nodes.Document;\n",
    "import org.jsoup.nodes.Element;\n",
    "\n",
    "final Document document = Jsoup.connect(\"http://www.imdb.com/chart/top\").get();\n",
    "\n",
    "for (Element row : document.select(\"table.chart.full-width tr\")) {\n",
    "\n",
    "        final String JudulFilm = row.select(\".titleColumn a\").text();\n",
    "        final String Rating = row.select(\".imdbRating\").text();\n",
    "\n",
    "        System.out.println(JudulFilm + \" -> Rating: \" + Rating);\n",
    "}\n",
    "\n",
    "```\n",
    "#### Latihan 11-7\n",
    " 1. Lakukan Eksekusi dari kode *Listing 11-7* pada pada bidang baris dibawah ini dan amatilah hasilnya. \n",
    " 2. Kemudian lakukan perubahan kode *Listing 11-7* untuk :\n",
    "    * Buat objek data frame untuk menampung data - data film hasil ektraksi \n",
    "    * Tampilkan 20 besar film - film terlaris dari data frame yang anda buat "
   ]
  },
  {
   "cell_type": "code",
   "execution_count": null,
   "metadata": {},
   "outputs": [],
   "source": [
    "//Listing 11-7.1"
   ]
  },
  {
   "cell_type": "code",
   "execution_count": null,
   "metadata": {},
   "outputs": [],
   "source": [
    "//Listing 11-7.2"
   ]
  }
 ],
 "metadata": {
  "kernelspec": {
   "display_name": "Java",
   "language": "java",
   "name": "java"
  },
  "language_info": {
   "codemirror_mode": "text/x-java",
   "file_extension": ".java",
   "mimetype": "",
   "name": "Java",
   "nbconverter_exporter": "",
   "version": "1.8.0_121"
  },
  "toc": {
   "base_numbering": 1,
   "nav_menu": {},
   "number_sections": false,
   "sideBar": false,
   "skip_h1_title": false,
   "title_cell": "Table of Contents",
   "title_sidebar": "Contents",
   "toc_cell": false,
   "toc_position": {},
   "toc_section_display": false,
   "toc_window_display": false
  }
 },
 "nbformat": 4,
 "nbformat_minor": 4
}
